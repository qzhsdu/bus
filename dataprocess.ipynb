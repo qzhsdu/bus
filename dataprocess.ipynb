{
 "cells": [
  {
   "source": [
    "import pandas as pd"
   ],
   "cell_type": "code",
   "outputs": [],
   "metadata": {},
   "execution_count": null
  },
  {
   "source": [
    "data = pd.read_csv(\"./data.csv\", encoding=\"gbk\")\n",
    "stop = data['路线']\n",
    "print(stop)"
   ],
   "cell_type": "code",
   "outputs": [],
   "metadata": {},
   "execution_count": null
  },
  {
   "source": [
    "stopSet = set()\n",
    "for s in stop:\n",
    "    q = s.split('+')\n",
    "    for e in q:\n",
    "        stopSet.add(e)"
   ],
   "cell_type": "code",
   "outputs": [],
   "metadata": {},
   "execution_count": null
  },
  {
   "source": [
    "print(len(stopSet))"
   ],
   "cell_type": "code",
   "outputs": [],
   "metadata": {},
   "execution_count": null
  },
  {
   "source": [
    "import requests;\n",
    "uri = \"https://restapi.amap.com/v3/geocode/geo?key=bdc0b919acc2b01a1559d0fcee20eaf9&city=济南&batch=true&output=json&address=\""
   ],
   "cell_type": "code",
   "outputs": [],
   "metadata": {},
   "execution_count": null
  },
  {
   "source": [
    "class Batch:\n",
    "    def __init__(self, nameBatch):\n",
    "        self.nameBatch = nameBatch\n",
    "    def getStr(self):\n",
    "        return \"|\".join(self.nameBatch)\n",
    "    def setData(self, s:str):\n",
    "        self.detail = s\n",
    "    "
   ],
   "cell_type": "code",
   "outputs": [],
   "metadata": {},
   "execution_count": null
  },
  {
   "source": [
    "temp = []\n",
    "batchs = []\n",
    "for i in stopSet:\n",
    "    temp.append(i)\n",
    "    if len(temp) == 10:\n",
    "        batchs.append(Batch(nameBatch=list(temp)))\n",
    "        temp.clear()\n",
    "if len(temp) != 0:\n",
    "    batchs.append(Batch(nameBatch=temp))"
   ],
   "cell_type": "code",
   "outputs": [],
   "metadata": {},
   "execution_count": null
  },
  {
   "source": [
    "print(len(batchs))\n",
    "print(len(stopSet))\n",
    "import time\n",
    "for i in batchs:\n",
    "    print(i.getStr())"
   ],
   "cell_type": "code",
   "outputs": [],
   "metadata": {},
   "execution_count": null
  },
  {
   "source": [
    "for batch in batchs:\n",
    "    res = requests.get(uri+batch.getStr())\n",
    "    batch.setData(res.text)\n",
    "    time.sleep(0.1)\n",
    "    "
   ],
   "cell_type": "code",
   "outputs": [],
   "metadata": {},
   "execution_count": null
  },
  {
   "cell_type": "code",
   "execution_count": null,
   "metadata": {},
   "outputs": [],
   "source": [
    "print(batchs[152].detail)"
   ]
  },
  {
   "source": [
    "import json\n",
    "f = open(\"stop111.csv\",\"wt\")\n",
    "for i in batchs:\n",
    "    info = json.loads(i.detail)\n",
    "    for x, y in zip(i.nameBatch, info['geocodes']):\n",
    "        print(x,y['location'],sep=',',file=f)\n",
    "f.close()\n",
    "print('done')"
   ],
   "cell_type": "code",
   "outputs": [],
   "metadata": {},
   "execution_count": null
  },
  {
   "source": [
    "not_found = []\n",
    "with open(\"not.txt\",'r',encoding='utf-8') as f:\n",
    "    for i in f:\n",
    "        not_found.append(i)\n",
    "print(len(not_found))\n",
    "print(not_found.count('济钢'))\n",
    "not_found = [i[:-1] for i in not_found]\n",
    "print(not_found)"
   ],
   "cell_type": "code",
   "outputs": [],
   "metadata": {},
   "execution_count": null
  },
  {
   "source": [
    "lineaff = []\n",
    "for i in range(len(data)):\n",
    "    s = data.iloc[i]['路线']\n",
    "    s = s.split('+')\n",
    "    c = 0\n",
    "    for j in not_found:\n",
    "        if s.count(j) != 0:\n",
    "            c = c+s.count(j)\n",
    "            print(data.iloc[i]['线路名'],j)\n",
    "            lineaff.append(data.iloc[i]['线路名'])\n",
    "    print(c)      "
   ],
   "cell_type": "code",
   "outputs": [],
   "metadata": {},
   "execution_count": null
  },
  {
   "cell_type": "code",
   "execution_count": null,
   "metadata": {},
   "outputs": [],
   "source": []
  },
  {
   "source": [
    "urll = 'https://restapi.amap.com/v3/place/text?types=150702&city=jinan&output=json&offset=1&page=1&key=bdc0b919acc2b01a1559d0fcee20eaf9&extensions=base&keywords='\n",
    ""
   ],
   "cell_type": "code",
   "outputs": [],
   "metadata": {},
   "execution_count": 53
  },
  {
   "source": [
    "class Stopp :\n",
    "    def __init__(self,name):\n",
    "        self.name = name\n",
    "        self.d = None\n",
    "    def setD(self,s):\n",
    "        self.d = s\n",
    "\n",
    "res = []\n",
    "for i in not_found:\n",
    "    res.append(Stopp(i))\n",
    ""
   ],
   "cell_type": "code",
   "outputs": [],
   "metadata": {},
   "execution_count": 83
  },
  {
   "source": [
    "for i in res:\n",
    "    rep = requests.get(urll+i.name)\n",
    "    print(rep.text)\n",
    "    i.setD(rep.text)\n",
    "    time.sleep(0.2)"
   ],
   "cell_type": "code",
   "outputs": [
    {
     "output_type": "stream",
     "name": "stdout",
     "text": "ntry\":\"中国\",\"pname\":\"山东省\",\"cityname\":\"济南市\",\"adcode\":\"370102\",\"adname\":\"历下区\",\"district\":\"历下区\",\"aoi\":[],\"street\":[]},\"pois\":[]}\n{\"status\":\"1\",\"count\":\"0\",\"info\":\"OK\",\"infocode\":\"10000\",\"suggestion\":{\"keywords\":[],\"cities\":[]},\"pois\":[]}\n{\"status\":\"1\",\"count\":\"0\",\"info\":\"OK\",\"infocode\":\"10000\",\"suggestion\":{\"keywords\":[],\"cities\":[]},\"sug_address\":{\"name\":\"山东省济南市历城区章灵一村\",\"address\":\"章灵一村\",\"location\":\"117.202733,36.694448\",\"country\":\"中国\",\"pname\":\"山东省\",\"cityname\":\"济南市\",\"adcode\":\"370112\",\"adname\":\"历城区\",\"district\":\"历城区\",\"aoi\":\"章灵一村\",\"street\":[]},\"pois\":[]}\n{\"status\":\"1\",\"count\":\"0\",\"info\":\"OK\",\"infocode\":\"10000\",\"suggestion\":{\"keywords\":[],\"cities\":[]},\"pois\":[]}\n{\"status\":\"1\",\"count\":\"0\",\"info\":\"OK\",\"infocode\":\"10000\",\"suggestion\":{\"keywords\":[],\"cities\":[]},\"sug_address\":{\"name\":\"山东省济南市市中区展西(公交站)\",\"address\":\"展西(公交站)\",\"location\":\"116.936859,36.585888\",\"country\":\"中国\",\"pname\":\"山东省\",\"cityname\":\"济南市\",\"adcode\":\"370103\",\"adname\":\"市中区\",\"district\":\"市中区\",\"aoi\":[],\"street\":[]},\"pois\":[]}\n{\"status\":\"1\",\"count\":\"0\",\"info\":\"OK\",\"infocode\":\"10000\",\"suggestion\":{\"keywords\":[],\"cities\":[]},\"sug_address\":{\"name\":\"山东省济南市历城区东彩世佳花园(公交站)\",\"address\":\"东彩世佳花园(公交站)\",\"location\":\"117.278648,36.650963\",\"country\":\"中国\",\"pname\":\"山东省\",\"cityname\":\"济南市\",\"adcode\":\"370112\",\"adname\":\"历城区\",\"district\":\"历城区\",\"aoi\":[],\"street\":[]},\"pois\":[]}\n{\"status\":\"1\",\"count\":\"0\",\"info\":\"OK\",\"infocode\":\"10000\",\"suggestion\":{\"keywords\":[],\"cities\":[]},\"sug_address\":{\"name\":\"山东省济南市历城区韩仓(公交站)\",\"address\":\"韩仓(公交站)\",\"location\":\"117.189629,36.721870\",\"country\":\"中国\",\"pname\":\"山东省\",\"cityname\":\"济南市\",\"adcode\":\"370112\",\"adname\":\"历城区\",\"district\":\"历城区\",\"aoi\":[],\"street\":[]},\"pois\":[]}\n{\"status\":\"1\",\"count\":\"0\",\"info\":\"OK\",\"infocode\":\"10000\",\"suggestion\":{\"keywords\":[],\"cities\":[]},\"sug_address\":{\"name\":\"山东省济南市历城区庄科村\",\"address\":\"庄科村\",\"location\":\"117.318681,36.660551\",\"country\":\"中国\",\"pname\":\"山东省\",\"cityname\":\"济南市\",\"adcode\":\"370112\",\"adname\":\"历城区\",\"district\":\"历城区\",\"aoi\":\"庄科村\",\"street\":[]},\"pois\":[]}\n{\"status\":\"1\",\"count\":\"0\",\"info\":\"OK\",\"infocode\":\"10000\",\"suggestion\":{\"keywords\":[],\"cities\":[]},\"sug_address\":{\"name\":\"山东省济南市市中区北桥村\",\"address\":\"北桥村\",\"location\":\"116.877280,36.573055\",\"country\":\"中国\",\"pname\":\"山东省\",\"cityname\":\"济南市\",\"adcode\":\"370103\",\"adname\":\"市中区\",\"district\":\"市中区\",\"aoi\":\"北桥村\",\"street\":[]},\"pois\":[]}\n{\"status\":\"1\",\"count\":\"0\",\"info\":\"OK\",\"infocode\":\"10000\",\"suggestion\":{\"keywords\":[],\"cities\":[]},\"sug_address\":{\"name\":\"山东省济南市历下区山师(公交站)\",\"address\":\"山师(公交站)\",\"location\":\"117.042427,36.654949\",\"country\":\"中国\",\"pname\":\"山东省\",\"cityname\":\"济南市\",\"adcode\":\"370102\",\"adname\":\"历下区\",\"district\":\"历下区\",\"aoi\":[],\"street\":[]},\"pois\":[]}\n{\"status\":\"1\",\"count\":\"0\",\"info\":\"OK\",\"infocode\":\"10000\",\"suggestion\":{\"keywords\":[],\"cities\":[]},\"sug_address\":{\"name\":\"山东省济南市历城区泉泸东(公交站)\",\"address\":\"泉泸东(公交站)\",\"location\":\"117.070755,36.544102\",\"country\":\"中国\",\"pname\":\"山东省\",\"cityname\":\"济南市\",\"adcode\":\"370112\",\"adname\":\"历城区\",\"district\":\"历城区\",\"aoi\":[],\"street\":[]},\"pois\":[]}\n{\"status\":\"1\",\"count\":\"0\",\"info\":\"OK\",\"infocode\":\"10000\",\"suggestion\":{\"keywords\":[],\"cities\":[]},\"sug_address\":{\"name\":\"山东省济南市市中区瓦峪村(公交站)\",\"address\":\"瓦峪村(公交站)\",\"location\":\"116.971313,36.539749\",\"country\":\"中国\",\"pname\":\"山东省\",\"cityname\":\"济南市\",\"adcode\":\"370103\",\"adname\":\"市中区\",\"district\":\"市中区\",\"aoi\":[],\"street\":[]},\"pois\":[]}\n{\"status\":\"1\",\"count\":\"0\",\"info\":\"OK\",\"infocode\":\"10000\",\"suggestion\":{\"keywords\":[],\"cities\":[]},\"sug_address\":{\"name\":\"山东省济南市历城区庄科南(公交站)\",\"address\":\"庄科南(公交站)\",\"location\":\"117.317780,36.656010\",\"country\":\"中国\",\"pname\":\"山东省\",\"cityname\":\"济南市\",\"adcode\":\"370112\",\"adname\":\"历城区\",\"district\":\"历城区\",\"aoi\":[],\"street\":[]},\"pois\":[]}\n{\"status\":\"1\",\"count\":\"0\",\"info\":\"OK\",\"infocode\":\"10000\",\"suggestion\":{\"keywords\":[],\"cities\":[]},\"sug_address\":{\"name\":\"山东省济南市天桥区北徐村\",\"address\":\"北徐村\",\"location\":\"117.026709,36.713476\",\"country\":\"中国\",\"pname\":\"山东省\",\"cityname\":\"济南市\",\"adcode\":\"370105\",\"adname\":\"天桥区\",\"district\":\"天桥区\",\"aoi\":\"北徐村\",\"street\":[]},\"pois\":[]}\n{\"status\":\"1\",\"count\":\"0\",\"info\":\"OK\",\"infocode\":\"10000\",\"suggestion\":{\"keywords\":[],\"cities\":[]},\"sug_address\":{\"name\":\"山东省济南市历城区吕家路口(公交站)\",\"address\":\"吕家路口(公交站)\",\"location\":\"117.291954,36.755840\",\"country\":\"中国\",\"pname\":\"山东省\",\"cityname\":\"济南市\",\"adcode\":\"370112\",\"adname\":\"历城区\",\"district\":\"历城区\",\"aoi\":[],\"street\":[]},\"pois\":[]}\n{\"status\":\"1\",\"count\":\"0\",\"info\":\"OK\",\"infocode\":\"10000\",\"suggestion\":{\"keywords\":[],\"cities\":[]},\"sug_address\":{\"name\":\"山东省济南市历下区全运运动员村(公交站)\",\"address\":\"全运运动员村(公交站)\",\"location\":\"117.120064,36.644535\",\"country\":\"中国\",\"pname\":\"山东省\",\"cityname\":\"济南市\",\"adcode\":\"370102\",\"adname\":\"历下区\",\"district\":\"历下区\",\"aoi\":[],\"street\":[]},\"pois\":[]}\n{\"status\":\"1\",\"count\":\"0\",\"info\":\"OK\",\"infocode\":\"10000\",\"suggestion\":{\"keywords\":[],\"cities\":[]},\"pois\":[]}\n{\"status\":\"1\",\"count\":\"0\",\"info\":\"OK\",\"infocode\":\"10000\",\"suggestion\":{\"keywords\":[],\"cities\":[]},\"sug_address\":{\"name\":\"山东省济南市市中区东方红桥(公交站)\",\"address\":\"东方红桥(公交站)\",\"location\":\"117.003746,36.605515\",\"country\":\"中国\",\"pname\":\"山东省\",\"cityname\":\"济南市\",\"adcode\":\"370103\",\"adname\":\"市中区\",\"district\":\"市中区\",\"aoi\":[],\"street\":[]},\"pois\":[]}\n{\"status\":\"1\",\"count\":\"0\",\"info\":\"OK\",\"infocode\":\"10000\",\"suggestion\":{\"keywords\":[],\"cities\":[]},\"sug_address\":{\"name\":\"山东省济南市市中区大涧玉龙山(公交站)\",\"address\":\"大涧玉龙山(公交站)\",\"location\":\"116.991241,36.564568\",\"country\":\"中国\",\"pname\":\"山东省\",\"cityname\":\"济南市\",\"adcode\":\"370103\",\"adname\":\"市中区\",\"district\":\"市中区\",\"aoi\":[],\"street\":[]},\"pois\":[]}\n{\"status\":\"1\",\"count\":\"0\",\"info\":\"OK\",\"infocode\":\"10000\",\"suggestion\":{\"keywords\":[],\"cities\":[]},\"sug_address\":{\"name\":\"山东省济南市天桥区天桥南(公交站)\",\"address\":\"天桥南(公交站)\",\"location\":\"116.996025,36.668720\",\"country\":\"中国\",\"pname\":\"山东省\",\"cityname\":\"济南市\",\"adcode\":\"370105\",\"adname\":\"天桥区\",\"district\":\"天桥区\",\"aoi\":[],\"street\":[]},\"pois\":[]}\n{\"status\":\"1\",\"count\":\"0\",\"info\":\"OK\",\"infocode\":\"10000\",\"suggestion\":{\"keywords\":[],\"cities\":[]},\"sug_address\":{\"name\":\"山东省济南市历城区北胡村\",\"address\":\"北胡村\",\"location\":\"117.147603,36.660052\",\"country\":\"中国\",\"pname\":\"山东省\",\"cityname\":\"济南市\",\"adcode\":\"370112\",\"adname\":\"历城区\",\"district\":\"历城区\",\"aoi\":\"北胡村\",\"street\":[]},\"pois\":[]}\n{\"status\":\"1\",\"count\":\"0\",\"info\":\"OK\",\"infocode\":\"10000\",\"suggestion\":{\"keywords\":[],\"cities\":[]},\"sug_address\":{\"name\":\"山东省济南市莱芜区宅科\",\"address\":\"宅科\",\"location\":\"117.720061,36.398955\",\"country\":\"中国\",\"pname\":\"山东省\",\"cityname\":\"济南市\",\"adcode\":\"370116\",\"adname\":\"莱芜区\",\"district\":\"莱芜区\",\"aoi\":\"宅科\",\"street\":[]},\"pois\":[]}\n{\"status\":\"1\",\"count\":\"0\",\"info\":\"OK\",\"infocode\":\"10000\",\"suggestion\":{\"keywords\":[],\"cities\":[]},\"sug_address\":{\"name\":\"山东省济南市历城区祝甸东(公交站)\",\"address\":\"祝甸东(公交站)\",\"location\":\"117.096230,36.695904\",\"country\":\"中国\",\"pname\":\"山东省\",\"cityname\":\"济南市\",\"adcode\":\"370112\",\"adname\":\"历城区\",\"district\":\"历城区\",\"aoi\":[],\"street\":[]},\"pois\":[]}\n{\"status\":\"1\",\"count\":\"0\",\"info\":\"OK\",\"infocode\":\"10000\",\"suggestion\":{\"keywords\":[],\"cities\":[]},\"sug_address\":{\"name\":\"山东省济南市市中区南康村\",\"address\":\"南康村\",\"location\":\"116.978874,36.578152\",\"country\":\"中国\",\"pname\":\"山东省\",\"cityname\":\"济南市\",\"adcode\":\"370103\",\"adname\":\"市中区\",\"district\":\"市中区\",\"aoi\":\"南康村\",\"street\":[]},\"pois\":[]}\n{\"status\":\"1\",\"count\":\"0\",\"info\":\"OK\",\"infocode\":\"10000\",\"suggestion\":{\"keywords\":[],\"cities\":[]},\"sug_address\":{\"name\":\"山东省济南市市中区解放军第九六〇医院西院宿舍(公交站)\",\"address\":\"解放军第九六〇医院西院宿舍(公交站)\",\"location\":\"116.931885,36.636341\",\"country\":\"中国\",\"pname\":\"山东省\",\"cityname\":\"济南市\",\"adcode\":\"370103\",\"adname\":\"市中区\",\"district\":\"市中区\",\"aoi\":[],\"street\":[]},\"pois\":[]}\n{\"status\":\"1\",\"count\":\"0\",\"info\":\"OK\",\"infocode\":\"10000\",\"suggestion\":{\"keywords\":[],\"cities\":[]},\"sug_address\":{\"name\":\"山东省济南市历下区西江华府五区(公交站)\",\"address\":\"西江华府五区(公交站)\",\"location\":\"117.107971,36.628960\",\"country\":\"中国\",\"pname\":\"山东省\",\"cityname\":\"济南市\",\"adcode\":\"370102\",\"adname\":\"历下区\",\"district\":\"历下区\",\"aoi\":[],\"street\":[]},\"pois\":[]}\n{\"status\":\"1\",\"count\":\"0\",\"info\":\"OK\",\"infocode\":\"10000\",\"suggestion\":{\"keywords\":[],\"cities\":[]},\"sug_address\":{\"name\":\"山东省济南市历城区左而村东(公交站)\",\"address\":\"左而村东(公交站)\",\"location\":\"116.984879,36.504681\",\"country\":\"中国\",\"pname\":\"山东省\",\"cityname\":\"济南市\",\"adcode\":\"370112\",\"adname\":\"历城区\",\"district\":\"历城区\",\"aoi\":[],\"street\":[]},\"pois\":[]}\n{\"status\":\"1\",\"count\":\"0\",\"info\":\"OK\",\"infocode\":\"10000\",\"suggestion\":{\"keywords\":[],\"cities\":[]},\"sug_address\":{\"name\":\"山东省济南市历城区御山首府北门(公交站)\",\"address\":\"御山首府北门(公交站)\",\"location\":\"117.095139,36.751034\",\"country\":\"中国\",\"pname\":\"山东省\",\"cityname\":\"济南市\",\"adcode\":\"370112\",\"adname\":\"历城区\",\"district\":\"历城区\",\"aoi\":[],\"street\":[]},\"pois\":[]}\n{\"status\":\"1\",\"count\":\"0\",\"info\":\"OK\",\"infocode\":\"10000\",\"suggestion\":{\"keywords\":[],\"cities\":[]},\"sug_address\":{\"name\":\"山东省济南市历城区祝甸\",\"address\":\"祝甸\",\"location\":\"117.090703,36.699714\",\"country\":\"中国\",\"pname\":\"山东省\",\"cityname\":\"济南市\",\"adcode\":\"370112\",\"adname\":\"历城区\",\"district\":\"历城区\",\"aoi\":\"祝甸\",\"street\":[]},\"pois\":[]}\n{\"status\":\"1\",\"count\":\"0\",\"info\":\"OK\",\"infocode\":\"10000\",\"suggestion\":{\"keywords\":[],\"cities\":[]},\"sug_address\":{\"name\":\"山东省济南市天桥区济南长途总站(公交站)\",\"address\":\"济南长途总站(公交站)\",\"location\":\"116.993752,36.685120\",\"country\":\"中国\",\"pname\":\"山东省\",\"cityname\":\"济南市\",\"adcode\":\"370105\",\"adname\":\"天桥区\",\"district\":\"天桥区\",\"aoi\":[],\"street\":[]},\"pois\":[]}\n{\"status\":\"1\",\"count\":\"0\",\"info\":\"OK\",\"infocode\":\"10000\",\"suggestion\":{\"keywords\":[],\"cities\":[]},\"sug_address\":{\"name\":\"山东省济南市历城区唐冶公交枢纽(公交站)\",\"address\":\"唐冶公交枢纽(公交站)\",\"location\":\"117.219437,36.673637\",\"country\":\"中国\",\"pname\":\"山东省\",\"cityname\":\"济南市\",\"adcode\":\"370112\",\"adname\":\"历城区\",\"district\":\"历城区\",\"aoi\":[],\"street\":[]},\"pois\":[]}\n{\"status\":\"1\",\"count\":\"0\",\"info\":\"OK\",\"infocode\":\"10000\",\"suggestion\":{\"keywords\":[],\"cities\":[]},\"sug_address\":{\"name\":\"山东省济南市天桥区靳家\",\"address\":\"靳家\",\"location\":\"117.035071,36.778090\",\"country\":\"中国\",\"pname\":\"山东省\",\"cityname\":\"济南市\",\"adcode\":\"370105\",\"adname\":\"天桥区\",\"district\":\"天桥区\",\"aoi\":\"靳家\",\"street\":[]},\"pois\":[]}\n{\"status\":\"1\",\"count\":\"0\",\"info\":\"OK\",\"infocode\":\"10000\",\"suggestion\":{\"keywords\":[],\"cities\":[]},\"sug_address\":{\"name\":\"山东省济南市市中区青年桥(公交站)\",\"address\":\"青年桥(公交站)\",\"location\":\"117.013527,36.653999\",\"country\":\"中国\",\"pname\":\"山东省\",\"cityname\":\"济南市\",\"adcode\":\"370103\",\"adname\":\"市中区\",\"district\":\"市中区\",\"aoi\":[],\"street\":[]},\"pois\":[]}\n{\"status\":\"1\",\"count\":\"0\",\"info\":\"OK\",\"infocode\":\"10000\",\"suggestion\":{\"keywords\":[],\"cities\":[]},\"sug_address\":{\"name\":\"山东省济南市市中区山凹北(公交站)\",\"address\":\"山凹北(公交站)\",\"location\":\"116.940117,36.632153\",\"country\":\"中国\",\"pname\":\"山东省\",\"cityname\":\"济南市\",\"adcode\":\"370103\",\"adname\":\"市中区\",\"district\":\"市中区\",\"aoi\":[],\"street\":[]},\"pois\":[]}\n{\"status\":\"1\",\"count\":\"0\",\"info\":\"OK\",\"infocode\":\"10000\",\"suggestion\":{\"keywords\":[],\"cities\":[]},\"sug_address\":{\"name\":\"山东省济南市历城区临时站(公交站)\",\"address\":\"临时站(公交站)\",\"location\":\"117.157951,36.601543\",\"country\":\"中国\",\"pname\":\"山东省\",\"cityname\":\"济南市\",\"adcode\":\"370112\",\"adname\":\"历城区\",\"district\":\"历城区\",\"aoi\":[],\"street\":[]},\"pois\":[]}\n{\"status\":\"1\",\"count\":\"0\",\"info\":\"OK\",\"infocode\":\"10000\",\"suggestion\":{\"keywords\":[],\"cities\":[]},\"sug_address\":{\"name\":\"山东省济南市市中区岳尔庄西(公交站)\",\"address\":\"岳尔庄西(公交站)\",\"location\":\"116.926163,36.587044\",\"country\":\"中国\",\"pname\":\"山东省\",\"cityname\":\"济南市\",\"adcode\":\"370103\",\"adname\":\"市中区\",\"district\":\"市中区\",\"aoi\":[],\"street\":[]},\"pois\":[]}\n{\"status\":\"1\",\"count\":\"0\",\"info\":\"OK\",\"infocode\":\"10000\",\"suggestion\":{\"keywords\":[],\"cities\":[]},\"sug_address\":{\"name\":\"山东省济南市市中区邵西村\",\"address\":\"邵西村\",\"location\":\"116.932762,36.575063\",\"country\":\"中国\",\"pname\":\"山东省\",\"cityname\":\"济南市\",\"adcode\":\"370103\",\"adname\":\"市中区\",\"district\":\"市中区\",\"aoi\":\"邵西村\",\"street\":[]},\"pois\":[]}\n{\"status\":\"1\",\"count\":\"0\",\"info\":\"OK\",\"infocode\":\"10000\",\"suggestion\":{\"keywords\":[],\"cities\":[]},\"sug_address\":{\"name\":\"山东省济南市天桥区黄台镇\",\"address\":\"黄台镇\",\"location\":\"117.051311,36.708044\",\"country\":\"中国\",\"pname\":\"山东省\",\"cityname\":\"济南市\",\"adcode\":\"370105\",\"adname\":\"天桥区\",\"district\":\"天桥区\",\"aoi\":\"黄台镇\",\"street\":[]},\"pois\":[]}\n{\"status\":\"1\",\"count\":\"0\",\"info\":\"OK\",\"infocode\":\"10000\",\"suggestion\":{\"keywords\":[],\"cities\":[]},\"pois\":[]}\n{\"status\":\"1\",\"count\":\"0\",\"info\":\"OK\",\"infocode\":\"10000\",\"suggestion\":{\"keywords\":[],\"cities\":[]},\"sug_address\":{\"name\":\"山东省济南市历城区张而(公交站)\",\"address\":\"张而(公交站)\",\"location\":\"117.273209,36.755630\",\"country\":\"中国\",\"pname\":\"山东省\",\"cityname\":\"济南市\",\"adcode\":\"370112\",\"adname\":\"历城区\",\"district\":\"历城区\",\"aoi\":[],\"street\":[]},\"pois\":[]}\n{\"status\":\"1\",\"count\":\"0\",\"info\":\"OK\",\"infocode\":\"10000\",\"suggestion\":{\"keywords\":[],\"cities\":[]},\"sug_address\":{\"name\":\"山东省济南市历城区祝甸北(公交站)\",\"address\":\"祝甸北(公交站)\",\"location\":\"117.092018,36.700241\",\"country\":\"中国\",\"pname\":\"山东省\",\"cityname\":\"济南市\",\"adcode\":\"370112\",\"adname\":\"历城区\",\"district\":\"历城区\",\"aoi\":[],\"street\":[]},\"pois\":[]}\n{\"status\":\"1\",\"count\":\"0\",\"info\":\"OK\",\"infocode\":\"10000\",\"suggestion\":{\"keywords\":[],\"cities\":[]},\"sug_address\":{\"name\":\"山东省济南市历城区亓家\",\"address\":\"亓家\",\"location\":\"117.037542,36.744267\",\"country\":\"中国\",\"pname\":\"山东省\",\"cityname\":\"济南市\",\"adcode\":\"370112\",\"adname\":\"历城区\",\"district\":\"历城区\",\"aoi\":\"亓家\",\"street\":[]},\"pois\":[]}\n{\"status\":\"1\",\"count\":\"0\",\"info\":\"OK\",\"infocode\":\"10000\",\"suggestion\":{\"keywords\":[],\"cities\":[]},\"pois\":[]}\n{\"status\":\"1\",\"count\":\"0\",\"info\":\"OK\",\"infocode\":\"10000\",\"suggestion\":{\"keywords\":[],\"cities\":[]},\"sug_address\":{\"name\":\"山东省济南市市中区解放军第九六〇医院西院(公交站)\",\"address\":\"解放军第九六〇医院西院(公交站)\",\"location\":\"116.927635,36.636070\",\"country\":\"中国\",\"pname\":\"山东省\",\"cityname\":\"济南市\",\"adcode\":\"370103\",\"adname\":\"市中区\",\"district\":\"市中区\",\"aoi\":[],\"street\":[]},\"pois\":[]}\n{\"status\":\"1\",\"count\":\"0\",\"info\":\"OK\",\"infocode\":\"10000\",\"suggestion\":{\"keywords\":[],\"cities\":[]},\"sug_address\":{\"name\":\"山东省济南市历城区唐冶街道\",\"address\":\"唐冶街道\",\"location\":\"117.217375,36.681522\",\"country\":\"中国\",\"pname\":\"山东省\",\"cityname\":\"济南市\",\"adcode\":\"370112\",\"adname\":\"历城区\",\"district\":\"历城区\",\"aoi\":\"唐冶街道\",\"street\":[]},\"pois\":[]}\n{\"status\":\"1\",\"count\":\"0\",\"info\":\"OK\",\"infocode\":\"10000\",\"suggestion\":{\"keywords\":[],\"cities\":[]},\"pois\":[]}\n{\"status\":\"1\",\"count\":\"0\",\"info\":\"OK\",\"infocode\":\"10000\",\"suggestion\":{\"keywords\":[],\"cities\":[]},\"sug_address\":{\"name\":\"山东省济南市市中区西西村(公交站)\",\"address\":\"西西村(公交站)\",\"location\":\"116.896545,36.534767\",\"country\":\"中国\",\"pname\":\"山东省\",\"cityname\":\"济南市\",\"adcode\":\"370103\",\"adname\":\"市中区\",\"district\":\"市中区\",\"aoi\":[],\"street\":[]},\"pois\":[]}\n{\"status\":\"1\",\"count\":\"0\",\"info\":\"OK\",\"infocode\":\"10000\",\"suggestion\":{\"keywords\":[],\"cities\":[]},\"sug_address\":{\"name\":\"山东省济南市历城区御山首府南门(公交站)\",\"address\":\"御山首府南门(公交站)\",\"location\":\"117.095512,36.747440\",\"country\":\"中国\",\"pname\":\"山东省\",\"cityname\":\"济南市\",\"adcode\":\"370112\",\"adname\":\"历城区\",\"district\":\"历城区\",\"aoi\":[],\"street\":[]},\"pois\":[]}\n{\"status\":\"1\",\"count\":\"0\",\"info\":\"OK\",\"infocode\":\"10000\",\"suggestion\":{\"keywords\":[],\"cities\":[]},\"sug_address\":{\"name\":\"山东省济南市天桥区解放军第九六〇医院\",\"address\":\"解放军第九六〇医院\",\"location\":\"116.982659,36.696943\",\"country\":\"中国\",\"pname\":\"山东省\",\"cityname\":\"济南市\",\"adcode\":\"370105\",\"adname\":\"天桥区\",\"district\":\"天桥区\",\"aoi\":[],\"street\":[]},\"pois\":[]}\n{\"status\":\"1\",\"count\":\"0\",\"info\":\"OK\",\"infocode\":\"10000\",\"suggestion\":{\"keywords\":[],\"cities\":[]},\"sug_address\":{\"name\":\"山东省济南市章丘区吕家\",\"address\":\"吕家\",\"location\":\"117.539180,36.742935\",\"country\":\"中国\",\"pname\":\"山东省\",\"cityname\":\"济南市\",\"adcode\":\"370114\",\"adname\":\"章丘区\",\"district\":\"章丘区\",\"aoi\":\"吕家\",\"street\":[]},\"pois\":[]}\n{\"status\":\"1\",\"count\":\"0\",\"info\":\"OK\",\"infocode\":\"10000\",\"suggestion\":{\"keywords\":[],\"cities\":[]},\"pois\":[]}\n{\"status\":\"1\",\"count\":\"0\",\"info\":\"OK\",\"infocode\":\"10000\",\"suggestion\":{\"keywords\":[],\"cities\":[]},\"sug_address\":{\"name\":\"山东省济南市长清区蟠龙山\",\"address\":\"蟠龙山\",\"location\":\"116.654551,36.379164\",\"country\":\"中国\",\"pname\":\"山东省\",\"cityname\":\"济南市\",\"adcode\":\"370113\",\"adname\":\"长清区\",\"district\":\"长清区\",\"aoi\":\"蟠龙山\",\"street\":[]},\"pois\":[]}\n{\"status\":\"1\",\"count\":\"0\",\"info\":\"OK\",\"infocode\":\"10000\",\"suggestion\":{\"keywords\":[],\"cities\":[]},\"pois\":[]}\n{\"status\":\"1\",\"count\":\"0\",\"info\":\"OK\",\"infocode\":\"10000\",\"suggestion\":{\"keywords\":[],\"cities\":[]},\"sug_address\":{\"name\":\"山东省济南市历下区东仓(公交站)\",\"address\":\"东仓(公交站)\",\"location\":\"117.043854,36.672070\",\"country\":\"中国\",\"pname\":\"山东省\",\"cityname\":\"济南市\",\"adcode\":\"370102\",\"adname\":\"历下区\",\"district\":\"历下区\",\"aoi\":[],\"street\":[]},\"pois\":[]}\n{\"status\":\"1\",\"count\":\"0\",\"info\":\"OK\",\"infocode\":\"10000\",\"suggestion\":{\"keywords\":[],\"cities\":[]},\"pois\":[]}\n{\"status\":\"1\",\"count\":\"0\",\"info\":\"OK\",\"infocode\":\"10000\",\"suggestion\":{\"keywords\":[],\"cities\":[]},\"sug_address\":{\"name\":\"山东省济南市历城区邢村\",\"address\":\"邢村\",\"location\":\"117.218581,36.670359\",\"country\":\"中国\",\"pname\":\"山东省\",\"cityname\":\"济南市\",\"adcode\":\"370112\",\"adname\":\"历城区\",\"district\":\"历城区\",\"aoi\":\"邢村\",\"street\":[]},\"pois\":[]}\n{\"status\":\"1\",\"count\":\"0\",\"info\":\"OK\",\"infocode\":\"10000\",\"suggestion\":{\"keywords\":[],\"cities\":[]},\"sug_address\":{\"name\":\"山东省济南市历城区王舍人镇\",\"address\":\"王舍人镇\",\"location\":\"117.147110,36.721563\",\"country\":\"中国\",\"pname\":\"山东省\",\"cityname\":\"济南市\",\"adcode\":\"370112\",\"adname\":\"历城区\",\"district\":\"历城区\",\"aoi\":\"王舍人镇\",\"street\":[]},\"pois\":[]}\n{\"status\":\"1\",\"count\":\"0\",\"info\":\"OK\",\"infocode\":\"10000\",\"suggestion\":{\"keywords\":[],\"cities\":[]},\"sug_address\":{\"name\":\"山东省济南市天桥区东车村\",\"address\":\"东车村\",\"location\":\"117.012216,36.797616\",\"country\":\"中国\",\"pname\":\"山东省\",\"cityname\":\"济南市\",\"adcode\":\"370105\",\"adname\":\"天桥区\",\"district\":\"天桥区\",\"aoi\":\"东车村\",\"street\":[]},\"pois\":[]}\n{\"status\":\"1\",\"count\":\"0\",\"info\":\"OK\",\"infocode\":\"10000\",\"suggestion\":{\"keywords\":[],\"cities\":[]},\"sug_address\":{\"name\":\"山东省济南市历城区汉峪(公交站)\",\"address\":\"汉峪(公交站)\",\"location\":\"117.158287,36.644299\",\"country\":\"中国\",\"pname\":\"山东省\",\"cityname\":\"济南市\",\"adcode\":\"370112\",\"adname\":\"历城区\",\"district\":\"历城区\",\"aoi\":[],\"street\":[]},\"pois\":[]}\n{\"status\":\"1\",\"count\":\"0\",\"info\":\"OK\",\"infocode\":\"10000\",\"suggestion\":{\"keywords\":[],\"cities\":[]},\"sug_address\":{\"name\":\"山东省济南市历城区殷陈北(公交站)\",\"address\":\"殷陈北(公交站)\",\"location\":\"117.162888,36.710083\",\"country\":\"中国\",\"pname\":\"山东省\",\"cityname\":\"济南市\",\"adcode\":\"370112\",\"adname\":\"历城区\",\"district\":\"历城区\",\"aoi\":[],\"street\":[]},\"pois\":[]}\n{\"status\":\"1\",\"count\":\"0\",\"info\":\"OK\",\"infocode\":\"10000\",\"suggestion\":{\"keywords\":[],\"cities\":[]},\"pois\":[]}\n{\"status\":\"1\",\"count\":\"0\",\"info\":\"OK\",\"infocode\":\"10000\",\"suggestion\":{\"keywords\":[],\"cities\":[]},\"sug_address\":{\"name\":\"山东省济南市槐荫区吴家堡\",\"address\":\"吴家堡\",\"location\":\"116.906494,36.698425\",\"country\":\"中国\",\"pname\":\"山东省\",\"cityname\":\"济南市\",\"adcode\":\"370104\",\"adname\":\"槐荫区\",\"district\":\"槐荫区\",\"aoi\":\"吴家堡\",\"street\":[]},\"pois\":[]}\n{\"status\":\"1\",\"count\":\"0\",\"info\":\"OK\",\"infocode\":\"10000\",\"suggestion\":{\"keywords\":[],\"cities\":[]},\"sug_address\":{\"name\":\"山东省济南市历下区立德学校\",\"address\":\"历下区立德学校\",\"location\":\"117.109620,36.631792\",\"country\":\"中国\",\"pname\":\"山东省\",\"cityname\":\"济南市\",\"adcode\":\"370102\",\"adname\":[],\"district\":[],\"aoi\":[],\"street\":[]},\"pois\":[]}\n{\"status\":\"1\",\"count\":\"0\",\"info\":\"OK\",\"infocode\":\"10000\",\"suggestion\":{\"keywords\":[],\"cities\":[]},\"sug_address\":{\"name\":\"山东省济南市历城区泉泸(公交站)\",\"address\":\"泉泸(公交站)\",\"location\":\"117.061310,36.542744\",\"country\":\"中国\",\"pname\":\"山东省\",\"cityname\":\"济南市\",\"adcode\":\"370112\",\"adname\":\"历城区\",\"district\":\"历城区\",\"aoi\":[],\"street\":[]},\"pois\":[]}\n{\"status\":\"1\",\"count\":\"0\",\"info\":\"OK\",\"infocode\":\"10000\",\"suggestion\":{\"keywords\":[],\"cities\":[]},\"sug_address\":{\"name\":\"山东省济南市历城区波罗峪\",\"address\":\"波罗峪\",\"location\":\"117.080638,36.541710\",\"country\":\"中国\",\"pname\":\"山东省\",\"cityname\":\"济南市\",\"adcode\":\"370112\",\"adname\":\"历城区\",\"district\":\"历城区\",\"aoi\":[],\"street\":[]},\"pois\":[]}\n{\"status\":\"1\",\"count\":\"0\",\"info\":\"OK\",\"infocode\":\"10000\",\"suggestion\":{\"keywords\":[],\"cities\":[]},\"sug_address\":{\"name\":\"山东省济南市历城区左而村\",\"address\":\"左而村\",\"location\":\"116.978771,36.505026\",\"country\":\"中国\",\"pname\":\"山东省\",\"cityname\":\"济南市\",\"adcode\":\"370112\",\"adname\":\"历城区\",\"district\":\"历城区\",\"aoi\":\"左而村\",\"street\":[]},\"pois\":[]}\n{\"status\":\"1\",\"count\":\"0\",\"info\":\"OK\",\"infocode\":\"10000\",\"suggestion\":{\"keywords\":[],\"cities\":[]},\"sug_address\":{\"name\":\"山东省济南市天桥区大坝\",\"address\":\"大坝\",\"location\":\"116.968269,36.769013\",\"country\":\"中国\",\"pname\":\"山东省\",\"cityname\":\"济南市\",\"adcode\":\"370105\",\"adname\":\"天桥区\",\"district\":\"天桥区\",\"aoi\":\"大坝\",\"street\":[]},\"pois\":[]}\n{\"status\":\"1\",\"count\":\"0\",\"info\":\"OK\",\"infocode\":\"10000\",\"suggestion\":{\"keywords\":[],\"cities\":[]},\"sug_address\":{\"name\":\"山东省济南市历城区神武村\",\"address\":\"神武村\",\"location\":\"117.214175,36.670733\",\"country\":\"中国\",\"pname\":\"山东省\",\"cityname\":\"济南市\",\"adcode\":\"370112\",\"adname\":\"历城区\",\"district\":\"历城区\",\"aoi\":\"神武村\",\"street\":[]},\"pois\":[]}\n{\"status\":\"1\",\"count\":\"0\",\"info\":\"OK\",\"infocode\":\"10000\",\"suggestion\":{\"keywords\":[],\"cities\":[]},\"sug_address\":{\"name\":\"山东省济南市历城区西郭村\",\"address\":\"西郭村\",\"location\":\"117.032232,36.494614\",\"country\":\"中国\",\"pname\":\"山东省\",\"cityname\":\"济南市\",\"adcode\":\"370112\",\"adname\":\"历城区\",\"district\":\"历城区\",\"aoi\":\"西郭村\",\"street\":[]},\"pois\":[]}\n{\"status\":\"1\",\"count\":\"0\",\"info\":\"OK\",\"infocode\":\"10000\",\"suggestion\":{\"keywords\":[],\"cities\":[]},\"pois\":[]}\n"
    }
   ],
   "metadata": {},
   "execution_count": 84
  },
  {
   "source": [
    "print(res[0].d)"
   ],
   "cell_type": "code",
   "outputs": [
    {
     "output_type": "stream",
     "name": "stdout",
     "text": "{\"status\":\"1\",\"count\":\"0\",\"info\":\"OK\",\"infocode\":\"10000\",\"suggestion\":{\"keywords\":[],\"cities\":[]},\"sug_address\":{\"name\":\"山东省济南市历城区教育城(公交站)\",\"address\":\"教育城(公交站)\",\"location\":\"117.278595,36.659397\",\"country\":\"中国\",\"pname\":\"山东省\",\"cityname\":\"济南市\",\"adcode\":\"370112\",\"adname\":\"历城区\",\"district\":\"历城区\",\"aoi\":[],\"street\":[]},\"pois\":[]}\n"
    }
   ],
   "metadata": {},
   "execution_count": 68
  },
  {
   "source": [
    "fin = open('fin.csv','w')\n",
    "for i in res:\n",
    "    print(i.name,end=',',file=fin)\n",
    "    tempp = json.loads(i.d)\n",
    "    if tempp. __contains__(\"sug_address\"):\n",
    "        print(tempp[\"sug_address\"]['location'],file=fin)\n",
    "    else:\n",
    "        print('找不到哇哇哇',file=fin)\n",
    "fin.close()"
   ],
   "cell_type": "code",
   "outputs": [],
   "metadata": {},
   "execution_count": 86
  },
  {
   "cell_type": "code",
   "execution_count": null,
   "metadata": {},
   "outputs": [],
   "source": []
  }
 ],
 "metadata": {
  "kernelspec": {
   "display_name": "Python 3",
   "language": "python",
   "name": "python3"
  },
  "language_info": {
   "codemirror_mode": {
    "name": "ipython",
    "version": 3
   },
   "file_extension": ".py",
   "mimetype": "text/x-python",
   "name": "python",
   "nbconvert_exporter": "python",
   "pygments_lexer": "ipython3",
   "version": "3.7.4-final"
  }
 },
 "nbformat": 4,
 "nbformat_minor": 2
}